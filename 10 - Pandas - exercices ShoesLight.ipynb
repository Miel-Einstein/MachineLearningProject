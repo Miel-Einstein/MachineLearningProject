{
 "cells": [
  {
   "cell_type": "markdown",
   "metadata": {},
   "source": [
    "<b>TP : Partons faire un peu de shopping ! Analyse d'un listing de 10 000 chaussures vendues en ligne</b>\n",
    "\n",
    "source du dataset : https://www.kaggle.com/datafiniti/womens-shoes-prices\n",
    "\n",
    "Nous allons analyser un data set contenant 10 000 chaussures avec de nombreuse caractéristiques comme le prix, les couleurs disponibles, les tailles disponibles, leurs poids...\n",
    "\n",
    "Voici une traduction de la description des colonnes principales : \n",
    "- asins : Une liste des ASIN (identificateurs d'Amazon) utilisés pour ce produit.\n",
    "- brand : Le nom de marque de ce produit.\n",
    "- categories : Une liste de mots-clés de catégorie utilisés pour ce produit dans plusieurs sources.\n",
    "- colors : Une liste de couleurs disponibles pour ce produit.\n",
    "- count : Le nombre d'unités incluses dans l'emballage du produit. Peut inclure une description de l'unité.\n",
    "- dateAdded : La date à laquelle ce produit a été ajouté pour la première fois à la base de données des produits.\n",
    "- dateUpdated : La date la plus récente à laquelle ce produit a été mis à jour ou vu par notre système.\n",
    "- descriptions : Une liste des descriptions de ce produit provenant de diverses sources. Chaque description contient :\n",
    "- dimension : La longueur, la largeur et la hauteur de ce produit. Unités incluses.\n",
    "- ean : Les codes EAN de ce produit. Il peut y avoir plus d'un EAN dans la liste lorsqu'un produit a plusieurs variantes,\n",
    "- financingAndLeasing : Une liste des conditions de financement ou de location associées à ce produit\n",
    "- features : Une liste des caractéristiques associées à ce produit. La liste des caractéristiques peut être obtenue à partir des sections de caractéristiques spécifiques disponibles dans la liste des produits du produit.\n",
    "- manufacturer : Numéro du fabricant\n",
    "- merchants : Une liste des marchands qui vendent ce produit. Il s'agit généralement de marchands tiers que l'on trouve sur les sites Web de commerce électronique.\n",
    "- name : dénomination du produit\n",
    "- prices : Une liste de prix pour ce produit.\n",
    "- primaryCategories : Une liste des catégories normalisées auxquelles ce produit appartient. Les valeurs des catégories peuvent être trouvées ici.\n",
    "- quantities : Une liste des quantités disponibles pour ce produit. Les quantités indiquent combien d'unités du produit sont disponibles auprès d'une source spécifique à un moment donné.\n",
    "- reviews : Une liste de commentaires pour ce produit.\n",
    "- sizes : Une liste des tailles disponibles pour ce produit.\n",
    "- skus : Une liste des références de ce produit. Les SKU sont typiquement spécifiques aux détaillants individuels ou aux sites Web.\n",
    "- sourceURLs : Une liste d'URLs utilisées pour générer les données de ce produit.\n",
    "- upc : Le code CUP de ce produit.\n",
    "- websiteIDs : Une liste d'identifiants de site Web pour ce produit. Les ID de site Web sont liés à un détaillant en ligne spécifique. Il s'agit de l'identifiant unique utilisé par le site Web. Ils sont utilisés par Datafiniti lorsque d'autres identificateurs uniques ne sont pas disponibles pour un produit.\n",
    "- weight : Le poids du produit. Unités incluses.\n",
    "\n",
    "La source https://developer.datafiniti.co/docs/product-data-schema"
   ]
  },
  {
   "cell_type": "markdown",
   "metadata": {},
   "source": [
    "<b> Exercices </b>\n",
    "\n",
    "<b>Découverte du data set</b><br>\n",
    "1) à l'aide de la fonction read_csv, importez entièrement le data set de enregistrez dans le dataframe 'Shoes' <br>\n",
    "2) Utilisez la méthode .head() pour afficher les premières lignes <br>\n",
    "3) Il y a trop de colonnes...Pour avoir une vue d'ensemble changez le paramétrage de pandas avec set_option pour afficher les 34 colonnes. Une fois cela fait, affichez à nouveau le head de la page <br>\n",
    "4) On va garder uniquement les colonnes qui nous interessent. grace à la méthode de sélection de plusieurs colonnes, créez un dataframe 'ShoesLight', comprenant unique les colonnes suivantes :'id','name','dateUpdated','colors','prices.amountMax','prices.amountMin','prices.merchant'. <br>Affichez le head de ShoesLight.<br>\n",
    "\n",
    "<b> data cleaning </b> <br>\n",
    "5) A l'aide de la méthode .dtypes, consultez les types de chaque colonne. Ecrivez en markdown celles devant être corrigées et comment. <br>\n",
    "6) A l'aide des méthodes .isnull, .sum() et len(), calculez le % de valeurs maquantes par colonne. Notez en markdown celles qui sont problématiques. <br>\n",
    "7) Il manque trop de valeurs pour les colonnes des e-commercant et des couleurs. Retirez les du dataframe shoesLight <br>\n",
    "8) A l'aide de la méthode .to_datetime, transformez la colonne 'dateUpdated'\n",
    "\n",
    "<b> features modeling </b> <br>\n",
    "9) caculez la colonne 'prices.amountAverage' en additionnant les colonnes 'prices.amountMax' et 'prices.amountMin' et en divisant par 2 <br>\n",
    "10) grace à la méthode dt.weekday, créez une colonne 'dayOfweekUpdated', permettant de connaitre à partir de dateUpdated le jour de la semaine où les produits sont mis à jour\n",
    "\n",
    "<b> data analyse </b> <br>\n",
    "\n",
    "11) Analyser le prix moyen des chaussures avec la methode .desribe() <br>\n",
    "12) Y-a-t-il de grandes différences de prix en fonction de la marque ? A l'aide des methodes groupby(), mean() et sort_values(), créez une varaible 'Luxe' contenant les 10 marques les plus chères, puis la variable 'lowCost' contenant les 10 marques les moins chères. <br>\n",
    "13) grace à la méthode value_counts(), determinez le jour de la semaine où les produits sont le plus souvent mis à jour <br>\n",
    "14) (optionnel) donnez le prix moyen des produits de la marque 'easy street' mis à jour un jeudi\n"
   ]
  },
  {
   "cell_type": "code",
   "execution_count": 88,
   "metadata": {},
   "outputs": [
    {
     "data": {
      "text/html": [
       "<div>\n",
       "<style scoped>\n",
       "    .dataframe tbody tr th:only-of-type {\n",
       "        vertical-align: middle;\n",
       "    }\n",
       "\n",
       "    .dataframe tbody tr th {\n",
       "        vertical-align: top;\n",
       "    }\n",
       "\n",
       "    .dataframe thead th {\n",
       "        text-align: right;\n",
       "    }\n",
       "</style>\n",
       "<table border=\"1\" class=\"dataframe\">\n",
       "  <thead>\n",
       "    <tr style=\"text-align: right;\">\n",
       "      <th></th>\n",
       "      <th>ï»¿id</th>\n",
       "      <th>dateAdded</th>\n",
       "      <th>dateUpdated</th>\n",
       "      <th>asins</th>\n",
       "      <th>brand</th>\n",
       "      <th>categories</th>\n",
       "      <th>primaryCategories</th>\n",
       "      <th>colors</th>\n",
       "      <th>dimension</th>\n",
       "      <th>ean</th>\n",
       "      <th>...</th>\n",
       "      <th>prices.merchant</th>\n",
       "      <th>prices.offer</th>\n",
       "      <th>prices.returnPolicy</th>\n",
       "      <th>prices.shipping</th>\n",
       "      <th>prices.size</th>\n",
       "      <th>prices.sourceURLs</th>\n",
       "      <th>sizes</th>\n",
       "      <th>sourceURLs</th>\n",
       "      <th>upc</th>\n",
       "      <th>weight</th>\n",
       "    </tr>\n",
       "  </thead>\n",
       "  <tbody>\n",
       "    <tr>\n",
       "      <th>0</th>\n",
       "      <td>AVpfEf_hLJeJML431ueH</td>\n",
       "      <td>2015-05-04T12:13:08Z</td>\n",
       "      <td>2018-01-29T04:38:43Z</td>\n",
       "      <td>NaN</td>\n",
       "      <td>Naturalizer</td>\n",
       "      <td>Clothing,Shoes,Women's Shoes,All Women's Shoes...</td>\n",
       "      <td>Shoes</td>\n",
       "      <td>Silver,Cream Watercolor Floral</td>\n",
       "      <td>NaN</td>\n",
       "      <td>NaN</td>\n",
       "      <td>...</td>\n",
       "      <td>Overstock.com</td>\n",
       "      <td>NaN</td>\n",
       "      <td>NaN</td>\n",
       "      <td>NaN</td>\n",
       "      <td>S</td>\n",
       "      <td>https://www.overstock.com/Clothing-Shoes/Women...</td>\n",
       "      <td>6W,9W,7.5W,12W,8.5M,9N,9M,9.5M,10.5M,10W,8.5W,...</td>\n",
       "      <td>https://www.walmart.com/ip/Naturalizer-Danya-W...</td>\n",
       "      <td>017136472311</td>\n",
       "      <td>NaN</td>\n",
       "    </tr>\n",
       "    <tr>\n",
       "      <th>1</th>\n",
       "      <td>AVpi74XfLJeJML43qZAc</td>\n",
       "      <td>2017-01-27T01:23:39Z</td>\n",
       "      <td>2018-01-03T05:21:54Z</td>\n",
       "      <td>NaN</td>\n",
       "      <td>MUK LUKS</td>\n",
       "      <td>Clothing,Shoes,Women's Shoes,Women's Casual Sh...</td>\n",
       "      <td>Shoes</td>\n",
       "      <td>Grey</td>\n",
       "      <td>NaN</td>\n",
       "      <td>3.397705e+10</td>\n",
       "      <td>...</td>\n",
       "      <td>Walmart.com</td>\n",
       "      <td>NaN</td>\n",
       "      <td>NaN</td>\n",
       "      <td>Standard</td>\n",
       "      <td>6</td>\n",
       "      <td>https://www.walmart.com/ip/MUK-LUKS-Womens-Jan...</td>\n",
       "      <td>10,7,6,9,8</td>\n",
       "      <td>https://www.walmart.com/ip/MUK-LUKS-Womens-Jan...</td>\n",
       "      <td>033977045743</td>\n",
       "      <td>NaN</td>\n",
       "    </tr>\n",
       "    <tr>\n",
       "      <th>2</th>\n",
       "      <td>AVpi74XfLJeJML43qZAc</td>\n",
       "      <td>2017-01-27T01:23:39Z</td>\n",
       "      <td>2018-01-03T05:21:54Z</td>\n",
       "      <td>NaN</td>\n",
       "      <td>MUK LUKS</td>\n",
       "      <td>Clothing,Shoes,Women's Shoes,Women's Casual Sh...</td>\n",
       "      <td>Shoes</td>\n",
       "      <td>Grey</td>\n",
       "      <td>NaN</td>\n",
       "      <td>3.397705e+10</td>\n",
       "      <td>...</td>\n",
       "      <td>Slippers Dot Com</td>\n",
       "      <td>NaN</td>\n",
       "      <td>NaN</td>\n",
       "      <td>Value</td>\n",
       "      <td>6</td>\n",
       "      <td>https://www.walmart.com/ip/MUK-LUKS-Womens-Jan...</td>\n",
       "      <td>10,7,6,9,8</td>\n",
       "      <td>https://www.walmart.com/ip/MUK-LUKS-Womens-Jan...</td>\n",
       "      <td>033977045743</td>\n",
       "      <td>NaN</td>\n",
       "    </tr>\n",
       "    <tr>\n",
       "      <th>3</th>\n",
       "      <td>AVpjXyCc1cnluZ0-V-Gj</td>\n",
       "      <td>2017-01-27T01:25:56Z</td>\n",
       "      <td>2018-01-04T11:52:35Z</td>\n",
       "      <td>NaN</td>\n",
       "      <td>MUK LUKS</td>\n",
       "      <td>Clothing,Shoes,Women's Shoes,All Women's Shoes...</td>\n",
       "      <td>Shoes,Shoes</td>\n",
       "      <td>Black</td>\n",
       "      <td>6.0 in x 6.0 in x 1.0 in</td>\n",
       "      <td>3.397705e+10</td>\n",
       "      <td>...</td>\n",
       "      <td>Slippers Dot Com</td>\n",
       "      <td>NaN</td>\n",
       "      <td>NaN</td>\n",
       "      <td>Value</td>\n",
       "      <td>6</td>\n",
       "      <td>https://www.walmart.com/ip/MUK-LUKS-Womens-Daw...</td>\n",
       "      <td>10,7,6,9,8</td>\n",
       "      <td>https://www.walmart.com/ip/MUK-LUKS-Womens-Daw...</td>\n",
       "      <td>033977045903</td>\n",
       "      <td>NaN</td>\n",
       "    </tr>\n",
       "    <tr>\n",
       "      <th>4</th>\n",
       "      <td>AVphGKLPilAPnD_x1Nrm</td>\n",
       "      <td>2017-01-27T01:25:56Z</td>\n",
       "      <td>2018-01-18T03:55:18Z</td>\n",
       "      <td>NaN</td>\n",
       "      <td>MUK LUKS</td>\n",
       "      <td>Clothing,Shoes,Women's Shoes,All Women's Shoes...</td>\n",
       "      <td>Shoes</td>\n",
       "      <td>Grey</td>\n",
       "      <td>6.0 in x 6.0 in x 1.0 in</td>\n",
       "      <td>3.397705e+10</td>\n",
       "      <td>...</td>\n",
       "      <td>Walmart.com</td>\n",
       "      <td>NaN</td>\n",
       "      <td>NaN</td>\n",
       "      <td>Expedited</td>\n",
       "      <td>6</td>\n",
       "      <td>https://www.walmart.com/ip/MUK-LUKS-Womens-Daw...</td>\n",
       "      <td>10,7,6,9,8</td>\n",
       "      <td>https://www.walmart.com/ip/MUK-LUKS-Womens-Daw...</td>\n",
       "      <td>033977045958</td>\n",
       "      <td>NaN</td>\n",
       "    </tr>\n",
       "  </tbody>\n",
       "</table>\n",
       "<p>5 rows × 34 columns</p>\n",
       "</div>"
      ],
      "text/plain": [
       "                  ï»¿id             dateAdded           dateUpdated asins  \\\n",
       "0  AVpfEf_hLJeJML431ueH  2015-05-04T12:13:08Z  2018-01-29T04:38:43Z   NaN   \n",
       "1  AVpi74XfLJeJML43qZAc  2017-01-27T01:23:39Z  2018-01-03T05:21:54Z   NaN   \n",
       "2  AVpi74XfLJeJML43qZAc  2017-01-27T01:23:39Z  2018-01-03T05:21:54Z   NaN   \n",
       "3  AVpjXyCc1cnluZ0-V-Gj  2017-01-27T01:25:56Z  2018-01-04T11:52:35Z   NaN   \n",
       "4  AVphGKLPilAPnD_x1Nrm  2017-01-27T01:25:56Z  2018-01-18T03:55:18Z   NaN   \n",
       "\n",
       "         brand                                         categories  \\\n",
       "0  Naturalizer  Clothing,Shoes,Women's Shoes,All Women's Shoes...   \n",
       "1     MUK LUKS  Clothing,Shoes,Women's Shoes,Women's Casual Sh...   \n",
       "2     MUK LUKS  Clothing,Shoes,Women's Shoes,Women's Casual Sh...   \n",
       "3     MUK LUKS  Clothing,Shoes,Women's Shoes,All Women's Shoes...   \n",
       "4     MUK LUKS  Clothing,Shoes,Women's Shoes,All Women's Shoes...   \n",
       "\n",
       "  primaryCategories                          colors                 dimension  \\\n",
       "0             Shoes  Silver,Cream Watercolor Floral                       NaN   \n",
       "1             Shoes                            Grey                       NaN   \n",
       "2             Shoes                            Grey                       NaN   \n",
       "3       Shoes,Shoes                           Black  6.0 in x 6.0 in x 1.0 in   \n",
       "4             Shoes                            Grey  6.0 in x 6.0 in x 1.0 in   \n",
       "\n",
       "            ean  ...   prices.merchant prices.offer prices.returnPolicy  \\\n",
       "0           NaN  ...     Overstock.com          NaN                 NaN   \n",
       "1  3.397705e+10  ...       Walmart.com          NaN                 NaN   \n",
       "2  3.397705e+10  ...  Slippers Dot Com          NaN                 NaN   \n",
       "3  3.397705e+10  ...  Slippers Dot Com          NaN                 NaN   \n",
       "4  3.397705e+10  ...       Walmart.com          NaN                 NaN   \n",
       "\n",
       "  prices.shipping prices.size  \\\n",
       "0             NaN           S   \n",
       "1        Standard           6   \n",
       "2           Value           6   \n",
       "3           Value           6   \n",
       "4       Expedited           6   \n",
       "\n",
       "                                   prices.sourceURLs  \\\n",
       "0  https://www.overstock.com/Clothing-Shoes/Women...   \n",
       "1  https://www.walmart.com/ip/MUK-LUKS-Womens-Jan...   \n",
       "2  https://www.walmart.com/ip/MUK-LUKS-Womens-Jan...   \n",
       "3  https://www.walmart.com/ip/MUK-LUKS-Womens-Daw...   \n",
       "4  https://www.walmart.com/ip/MUK-LUKS-Womens-Daw...   \n",
       "\n",
       "                                               sizes  \\\n",
       "0  6W,9W,7.5W,12W,8.5M,9N,9M,9.5M,10.5M,10W,8.5W,...   \n",
       "1                                         10,7,6,9,8   \n",
       "2                                         10,7,6,9,8   \n",
       "3                                         10,7,6,9,8   \n",
       "4                                         10,7,6,9,8   \n",
       "\n",
       "                                          sourceURLs           upc weight  \n",
       "0  https://www.walmart.com/ip/Naturalizer-Danya-W...  017136472311    NaN  \n",
       "1  https://www.walmart.com/ip/MUK-LUKS-Womens-Jan...  033977045743    NaN  \n",
       "2  https://www.walmart.com/ip/MUK-LUKS-Womens-Jan...  033977045743    NaN  \n",
       "3  https://www.walmart.com/ip/MUK-LUKS-Womens-Daw...  033977045903    NaN  \n",
       "4  https://www.walmart.com/ip/MUK-LUKS-Womens-Daw...  033977045958    NaN  \n",
       "\n",
       "[5 rows x 34 columns]"
      ]
     },
     "execution_count": 88,
     "metadata": {},
     "output_type": "execute_result"
    }
   ],
   "source": [
    "import pandas as pd\n",
    "#1) à l'aide de la fonction read_csv, importez entièrement le data set de enregistrez dans le dataframe 'Shoes' <br>\n",
    "\n",
    "Shoes=pd.read_csv('Datafiniti_Womens_Shoes.csv',encoding=\"latin-1\",sep=\",\")\n",
    "#2) Utilisez la méthode .head() pour afficher les premières lignes <br>\n",
    "\n",
    "Shoes.head(5)"
   ]
  },
  {
   "cell_type": "code",
   "execution_count": 89,
   "metadata": {},
   "outputs": [
    {
     "data": {
      "text/html": [
       "<div>\n",
       "<style scoped>\n",
       "    .dataframe tbody tr th:only-of-type {\n",
       "        vertical-align: middle;\n",
       "    }\n",
       "\n",
       "    .dataframe tbody tr th {\n",
       "        vertical-align: top;\n",
       "    }\n",
       "\n",
       "    .dataframe thead th {\n",
       "        text-align: right;\n",
       "    }\n",
       "</style>\n",
       "<table border=\"1\" class=\"dataframe\">\n",
       "  <thead>\n",
       "    <tr style=\"text-align: right;\">\n",
       "      <th></th>\n",
       "      <th>ean</th>\n",
       "      <th>prices.amountMax</th>\n",
       "      <th>prices.amountMin</th>\n",
       "      <th>prices.returnPolicy</th>\n",
       "    </tr>\n",
       "  </thead>\n",
       "  <tbody>\n",
       "    <tr>\n",
       "      <th>count</th>\n",
       "      <td>6.710000e+02</td>\n",
       "      <td>10000.000000</td>\n",
       "      <td>10000.000000</td>\n",
       "      <td>0.0</td>\n",
       "    </tr>\n",
       "    <tr>\n",
       "      <th>mean</th>\n",
       "      <td>7.714302e+11</td>\n",
       "      <td>69.223544</td>\n",
       "      <td>51.131209</td>\n",
       "      <td>NaN</td>\n",
       "    </tr>\n",
       "    <tr>\n",
       "      <th>std</th>\n",
       "      <td>1.847119e+11</td>\n",
       "      <td>19.487286</td>\n",
       "      <td>21.267446</td>\n",
       "      <td>NaN</td>\n",
       "    </tr>\n",
       "    <tr>\n",
       "      <th>min</th>\n",
       "      <td>3.397705e+10</td>\n",
       "      <td>5.870000</td>\n",
       "      <td>4.880000</td>\n",
       "      <td>NaN</td>\n",
       "    </tr>\n",
       "    <tr>\n",
       "      <th>25%</th>\n",
       "      <td>7.276810e+11</td>\n",
       "      <td>59.990000</td>\n",
       "      <td>37.490000</td>\n",
       "      <td>NaN</td>\n",
       "    </tr>\n",
       "    <tr>\n",
       "      <th>50%</th>\n",
       "      <td>8.701910e+11</td>\n",
       "      <td>64.990000</td>\n",
       "      <td>49.990000</td>\n",
       "      <td>NaN</td>\n",
       "    </tr>\n",
       "    <tr>\n",
       "      <th>75%</th>\n",
       "      <td>8.860660e+11</td>\n",
       "      <td>79.990000</td>\n",
       "      <td>59.990000</td>\n",
       "      <td>NaN</td>\n",
       "    </tr>\n",
       "    <tr>\n",
       "      <th>max</th>\n",
       "      <td>8.898850e+11</td>\n",
       "      <td>359.950000</td>\n",
       "      <td>359.950000</td>\n",
       "      <td>NaN</td>\n",
       "    </tr>\n",
       "  </tbody>\n",
       "</table>\n",
       "</div>"
      ],
      "text/plain": [
       "                ean  prices.amountMax  prices.amountMin  prices.returnPolicy\n",
       "count  6.710000e+02      10000.000000      10000.000000                  0.0\n",
       "mean   7.714302e+11         69.223544         51.131209                  NaN\n",
       "std    1.847119e+11         19.487286         21.267446                  NaN\n",
       "min    3.397705e+10          5.870000          4.880000                  NaN\n",
       "25%    7.276810e+11         59.990000         37.490000                  NaN\n",
       "50%    8.701910e+11         64.990000         49.990000                  NaN\n",
       "75%    8.860660e+11         79.990000         59.990000                  NaN\n",
       "max    8.898850e+11        359.950000        359.950000                  NaN"
      ]
     },
     "execution_count": 89,
     "metadata": {},
     "output_type": "execute_result"
    }
   ],
   "source": [
    "Shoes.describe()"
   ]
  },
  {
   "cell_type": "code",
   "execution_count": 90,
   "metadata": {},
   "outputs": [],
   "source": [
    "#4) On va garder uniquement les colonnes qui nous interessent. \n",
    "ShoesLight=Shoes[['name','dateUpdated','colors','prices.amountMax','prices.amountMin','prices.merchant','brand']]\n"
   ]
  },
  {
   "cell_type": "code",
   "execution_count": 91,
   "metadata": {},
   "outputs": [
    {
     "data": {
      "text/plain": [
       "name                 object\n",
       "dateUpdated          object\n",
       "colors               object\n",
       "prices.amountMax    float64\n",
       "prices.amountMin    float64\n",
       "prices.merchant      object\n",
       "brand                object\n",
       "dtype: object"
      ]
     },
     "execution_count": 91,
     "metadata": {},
     "output_type": "execute_result"
    }
   ],
   "source": [
    "#5)consultez les types de chaque colonne. Ecrivez en markdown celles devant être corrigées et comment.\n",
    "ShoesLight.dtypes\n"
   ]
  },
  {
   "cell_type": "code",
   "execution_count": 92,
   "metadata": {},
   "outputs": [
    {
     "name": "stderr",
     "output_type": "stream",
     "text": [
      "C:\\Users\\princ\\anaconda3\\lib\\site-packages\\pandas\\core\\series.py:4463: SettingWithCopyWarning: \n",
      "A value is trying to be set on a copy of a slice from a DataFrame\n",
      "\n",
      "See the caveats in the documentation: https://pandas.pydata.org/pandas-docs/stable/user_guide/indexing.html#returning-a-view-versus-a-copy\n",
      "  return super().fillna(\n"
     ]
    }
   ],
   "source": [
    "ShoesLight['prices.merchant'].fillna(0,inplace=True)"
   ]
  },
  {
   "cell_type": "code",
   "execution_count": 93,
   "metadata": {},
   "outputs": [
    {
     "data": {
      "text/plain": [
       "name                0.0000\n",
       "dateUpdated         0.0000\n",
       "colors              0.7369\n",
       "prices.amountMax    0.0000\n",
       "prices.amountMin    0.0000\n",
       "prices.merchant     0.0000\n",
       "brand               0.0000\n",
       "dtype: float64"
      ]
     },
     "execution_count": 93,
     "metadata": {},
     "output_type": "execute_result"
    }
   ],
   "source": [
    "#6)6) A l'aide des méthodes .isnull, .sum() et len(), calculez le % de valeurs maquantes par colonne. Notez en markdown celles qui sont problématiques.\n",
    "ShoesLight.isnull().sum()/len(ShoesLight) "
   ]
  },
  {
   "cell_type": "code",
   "execution_count": 94,
   "metadata": {},
   "outputs": [
    {
     "name": "stderr",
     "output_type": "stream",
     "text": [
      "C:\\Users\\princ\\anaconda3\\lib\\site-packages\\pandas\\core\\frame.py:4308: SettingWithCopyWarning: \n",
      "A value is trying to be set on a copy of a slice from a DataFrame\n",
      "\n",
      "See the caveats in the documentation: https://pandas.pydata.org/pandas-docs/stable/user_guide/indexing.html#returning-a-view-versus-a-copy\n",
      "  return super().drop(\n"
     ]
    },
    {
     "data": {
      "text/html": [
       "<div>\n",
       "<style scoped>\n",
       "    .dataframe tbody tr th:only-of-type {\n",
       "        vertical-align: middle;\n",
       "    }\n",
       "\n",
       "    .dataframe tbody tr th {\n",
       "        vertical-align: top;\n",
       "    }\n",
       "\n",
       "    .dataframe thead th {\n",
       "        text-align: right;\n",
       "    }\n",
       "</style>\n",
       "<table border=\"1\" class=\"dataframe\">\n",
       "  <thead>\n",
       "    <tr style=\"text-align: right;\">\n",
       "      <th></th>\n",
       "      <th>name</th>\n",
       "      <th>dateUpdated</th>\n",
       "      <th>prices.amountMax</th>\n",
       "      <th>prices.amountMin</th>\n",
       "      <th>prices.merchant</th>\n",
       "      <th>brand</th>\n",
       "    </tr>\n",
       "  </thead>\n",
       "  <tbody>\n",
       "    <tr>\n",
       "      <th>0</th>\n",
       "      <td>Naturalizer Danya Women N/S Open Toe Synthetic...</td>\n",
       "      <td>2018-01-29T04:38:43Z</td>\n",
       "      <td>55.99</td>\n",
       "      <td>55.99</td>\n",
       "      <td>Overstock.com</td>\n",
       "      <td>Naturalizer</td>\n",
       "    </tr>\n",
       "    <tr>\n",
       "      <th>1</th>\n",
       "      <td>MUK LUKS Womens Jane Suede Moccasin</td>\n",
       "      <td>2018-01-03T05:21:54Z</td>\n",
       "      <td>47.00</td>\n",
       "      <td>35.25</td>\n",
       "      <td>Walmart.com</td>\n",
       "      <td>MUK LUKS</td>\n",
       "    </tr>\n",
       "    <tr>\n",
       "      <th>2</th>\n",
       "      <td>MUK LUKS Womens Jane Suede Moccasin</td>\n",
       "      <td>2018-01-03T05:21:54Z</td>\n",
       "      <td>35.25</td>\n",
       "      <td>35.25</td>\n",
       "      <td>Slippers Dot Com</td>\n",
       "      <td>MUK LUKS</td>\n",
       "    </tr>\n",
       "    <tr>\n",
       "      <th>3</th>\n",
       "      <td>MUK LUKS Womens Dawn Suede Scuff Slipper</td>\n",
       "      <td>2018-01-04T11:52:35Z</td>\n",
       "      <td>24.75</td>\n",
       "      <td>24.75</td>\n",
       "      <td>Slippers Dot Com</td>\n",
       "      <td>MUK LUKS</td>\n",
       "    </tr>\n",
       "    <tr>\n",
       "      <th>4</th>\n",
       "      <td>MUK LUKS Womens Dawn Suede Scuff Slipper</td>\n",
       "      <td>2018-01-18T03:55:18Z</td>\n",
       "      <td>33.00</td>\n",
       "      <td>30.39</td>\n",
       "      <td>Walmart.com</td>\n",
       "      <td>MUK LUKS</td>\n",
       "    </tr>\n",
       "    <tr>\n",
       "      <th>...</th>\n",
       "      <td>...</td>\n",
       "      <td>...</td>\n",
       "      <td>...</td>\n",
       "      <td>...</td>\n",
       "      <td>...</td>\n",
       "      <td>...</td>\n",
       "    </tr>\n",
       "    <tr>\n",
       "      <th>9994</th>\n",
       "      <td>Lowa San Luis Gtx Surround Lo Shoe - Women's</td>\n",
       "      <td>2018-04-06T21:02:08Z</td>\n",
       "      <td>199.95</td>\n",
       "      <td>89.98</td>\n",
       "      <td>Backcountry.com</td>\n",
       "      <td>Lowa</td>\n",
       "    </tr>\n",
       "    <tr>\n",
       "      <th>9995</th>\n",
       "      <td>Asics Gel-Foundation 12 Running Shoe - Women's</td>\n",
       "      <td>2018-04-06T21:02:04Z</td>\n",
       "      <td>119.95</td>\n",
       "      <td>89.96</td>\n",
       "      <td>Backcountry.com</td>\n",
       "      <td>Asics</td>\n",
       "    </tr>\n",
       "    <tr>\n",
       "      <th>9996</th>\n",
       "      <td>Asics Gel-Fortitude 7 Running Shoe - Women's</td>\n",
       "      <td>2018-04-06T21:02:04Z</td>\n",
       "      <td>119.95</td>\n",
       "      <td>77.97</td>\n",
       "      <td>Backcountry.com</td>\n",
       "      <td>Asics</td>\n",
       "    </tr>\n",
       "    <tr>\n",
       "      <th>9997</th>\n",
       "      <td>Kaanas Mesa Hardware Mule - Women's</td>\n",
       "      <td>2018-04-06T21:02:01Z</td>\n",
       "      <td>128.95</td>\n",
       "      <td>64.47</td>\n",
       "      <td>Backcountry.com</td>\n",
       "      <td>Kaanas</td>\n",
       "    </tr>\n",
       "    <tr>\n",
       "      <th>9998</th>\n",
       "      <td>Nike Air Zoom Structure 21 Running Shoe - Narr...</td>\n",
       "      <td>2018-04-06T21:01:53Z</td>\n",
       "      <td>119.95</td>\n",
       "      <td>89.96</td>\n",
       "      <td>Backcountry.com</td>\n",
       "      <td>Nike</td>\n",
       "    </tr>\n",
       "  </tbody>\n",
       "</table>\n",
       "<p>9999 rows × 6 columns</p>\n",
       "</div>"
      ],
      "text/plain": [
       "                                                   name           dateUpdated  \\\n",
       "0     Naturalizer Danya Women N/S Open Toe Synthetic...  2018-01-29T04:38:43Z   \n",
       "1                   MUK LUKS Womens Jane Suede Moccasin  2018-01-03T05:21:54Z   \n",
       "2                   MUK LUKS Womens Jane Suede Moccasin  2018-01-03T05:21:54Z   \n",
       "3              MUK LUKS Womens Dawn Suede Scuff Slipper  2018-01-04T11:52:35Z   \n",
       "4              MUK LUKS Womens Dawn Suede Scuff Slipper  2018-01-18T03:55:18Z   \n",
       "...                                                 ...                   ...   \n",
       "9994       Lowa San Luis Gtx Surround Lo Shoe - Women's  2018-04-06T21:02:08Z   \n",
       "9995     Asics Gel-Foundation 12 Running Shoe - Women's  2018-04-06T21:02:04Z   \n",
       "9996       Asics Gel-Fortitude 7 Running Shoe - Women's  2018-04-06T21:02:04Z   \n",
       "9997                Kaanas Mesa Hardware Mule - Women's  2018-04-06T21:02:01Z   \n",
       "9998  Nike Air Zoom Structure 21 Running Shoe - Narr...  2018-04-06T21:01:53Z   \n",
       "\n",
       "      prices.amountMax  prices.amountMin   prices.merchant        brand  \n",
       "0                55.99             55.99     Overstock.com  Naturalizer  \n",
       "1                47.00             35.25       Walmart.com     MUK LUKS  \n",
       "2                35.25             35.25  Slippers Dot Com     MUK LUKS  \n",
       "3                24.75             24.75  Slippers Dot Com     MUK LUKS  \n",
       "4                33.00             30.39       Walmart.com     MUK LUKS  \n",
       "...                ...               ...               ...          ...  \n",
       "9994            199.95             89.98   Backcountry.com         Lowa  \n",
       "9995            119.95             89.96   Backcountry.com        Asics  \n",
       "9996            119.95             77.97   Backcountry.com        Asics  \n",
       "9997            128.95             64.47   Backcountry.com       Kaanas  \n",
       "9998            119.95             89.96   Backcountry.com         Nike  \n",
       "\n",
       "[9999 rows x 6 columns]"
      ]
     },
     "execution_count": 94,
     "metadata": {},
     "output_type": "execute_result"
    }
   ],
   "source": [
    "#couleurs\n",
    "#7) Il manque trop de valeurs pour les colonnes des e-commercant et des couleurs. Retirez les du dataframe shoesLight \n",
    "ShoesLight.drop(columns=['colors'],inplace=True)\n",
    "ShoesLight.drop(9999)"
   ]
  },
  {
   "cell_type": "code",
   "execution_count": 95,
   "metadata": {},
   "outputs": [
    {
     "name": "stderr",
     "output_type": "stream",
     "text": [
      "<ipython-input-95-bf2ac362b164>:1: SettingWithCopyWarning: \n",
      "A value is trying to be set on a copy of a slice from a DataFrame.\n",
      "Try using .loc[row_indexer,col_indexer] = value instead\n",
      "\n",
      "See the caveats in the documentation: https://pandas.pydata.org/pandas-docs/stable/user_guide/indexing.html#returning-a-view-versus-a-copy\n",
      "  ShoesLight['dateUpdated']=pd.to_datetime(ShoesLight['dateUpdated'])\n"
     ]
    }
   ],
   "source": [
    "ShoesLight['dateUpdated']=pd.to_datetime(ShoesLight['dateUpdated'])"
   ]
  },
  {
   "cell_type": "code",
   "execution_count": 96,
   "metadata": {},
   "outputs": [
    {
     "data": {
      "text/plain": [
       "datetime64[ns, UTC]"
      ]
     },
     "execution_count": 96,
     "metadata": {},
     "output_type": "execute_result"
    }
   ],
   "source": [
    "ShoesLight['dateUpdated'].dtype"
   ]
  },
  {
   "cell_type": "code",
   "execution_count": 97,
   "metadata": {},
   "outputs": [
    {
     "name": "stderr",
     "output_type": "stream",
     "text": [
      "<ipython-input-97-2f0eb2aaa351>:1: SettingWithCopyWarning: \n",
      "A value is trying to be set on a copy of a slice from a DataFrame.\n",
      "Try using .loc[row_indexer,col_indexer] = value instead\n",
      "\n",
      "See the caveats in the documentation: https://pandas.pydata.org/pandas-docs/stable/user_guide/indexing.html#returning-a-view-versus-a-copy\n",
      "  ShoesLight['prices.amountAverage']=(ShoesLight['prices.amountMax']+ShoesLight['prices.amountMin'])/2\n"
     ]
    },
    {
     "data": {
      "text/plain": [
       "0        55.990\n",
       "1        41.125\n",
       "2        35.250\n",
       "3        24.750\n",
       "4        31.695\n",
       "         ...   \n",
       "9995    104.955\n",
       "9996     98.960\n",
       "9997     96.710\n",
       "9998    104.955\n",
       "9999     74.960\n",
       "Name: prices.amountAverage, Length: 10000, dtype: float64"
      ]
     },
     "execution_count": 97,
     "metadata": {},
     "output_type": "execute_result"
    }
   ],
   "source": [
    "ShoesLight['prices.amountAverage']=(ShoesLight['prices.amountMax']+ShoesLight['prices.amountMin'])/2\n",
    "ShoesLight['prices.amountAverage']"
   ]
  },
  {
   "cell_type": "code",
   "execution_count": 98,
   "metadata": {},
   "outputs": [
    {
     "name": "stderr",
     "output_type": "stream",
     "text": [
      "<ipython-input-98-2f8394e06c39>:3: SettingWithCopyWarning: \n",
      "A value is trying to be set on a copy of a slice from a DataFrame.\n",
      "Try using .loc[row_indexer,col_indexer] = value instead\n",
      "\n",
      "See the caveats in the documentation: https://pandas.pydata.org/pandas-docs/stable/user_guide/indexing.html#returning-a-view-versus-a-copy\n",
      "  ShoesLight['dayOfweekUpdated']=ShoesLight['dateUpdated'].dt.weekday\n"
     ]
    }
   ],
   "source": [
    "#10) grace à la méthode dt.weekday, créez une colonne 'dayOfweekUpdated'\n",
    "ShoesLight['dateUpdated'].dtypes\n",
    "ShoesLight['dayOfweekUpdated']=ShoesLight['dateUpdated'].dt.weekday\n"
   ]
  },
  {
   "cell_type": "code",
   "execution_count": 110,
   "metadata": {},
   "outputs": [
    {
     "data": {
      "text/plain": [
       "(0       lun\n",
       " 1       Mer\n",
       " 2       Mer\n",
       " 3       Jeu\n",
       " 4       Jeu\n",
       "        ... \n",
       " 9995      4\n",
       " 9996      4\n",
       " 9997      4\n",
       " 9998      4\n",
       " 9999      4\n",
       " Name: dayOfweekUpdated, Length: 10000, dtype: object,\n",
       " 0       Naturalizer\n",
       " 1          MUK LUKS\n",
       " 2          MUK LUKS\n",
       " 3          MUK LUKS\n",
       " 4          MUK LUKS\n",
       "            ...     \n",
       " 9995          Asics\n",
       " 9996          Asics\n",
       " 9997         Kaanas\n",
       " 9998           Nike\n",
       " 9999       OTZShoes\n",
       " Name: brand, Length: 10000, dtype: object)"
      ]
     },
     "execution_count": 110,
     "metadata": {},
     "output_type": "execute_result"
    }
   ],
   "source": [
    "ShoesLight['dayOfweekUpdated']"
   ]
  },
  {
   "cell_type": "code",
   "execution_count": 100,
   "metadata": {},
   "outputs": [
    {
     "name": "stderr",
     "output_type": "stream",
     "text": [
      "C:\\Users\\princ\\anaconda3\\lib\\site-packages\\pandas\\core\\series.py:4509: SettingWithCopyWarning: \n",
      "A value is trying to be set on a copy of a slice from a DataFrame\n",
      "\n",
      "See the caveats in the documentation: https://pandas.pydata.org/pandas-docs/stable/user_guide/indexing.html#returning-a-view-versus-a-copy\n",
      "  return super().replace(\n"
     ]
    },
    {
     "data": {
      "text/plain": [
       "0       lun\n",
       "1       Mer\n",
       "2       Mer\n",
       "3       Jeu\n",
       "4       Jeu\n",
       "       ... \n",
       "9995      4\n",
       "9996      4\n",
       "9997      4\n",
       "9998      4\n",
       "9999      4\n",
       "Name: dayOfweekUpdated, Length: 10000, dtype: object"
      ]
     },
     "execution_count": 100,
     "metadata": {},
     "output_type": "execute_result"
    }
   ],
   "source": [
    "jour=[\"lun\",\"Mard\",\"Mer\",\"Jeu\",\"Ven\",\"Sam\",\"Dim\"]\n",
    "for i in ShoesLight['dayOfweekUpdated'].head():\n",
    "    if i==i:\n",
    "         ShoesLight['dayOfweekUpdated'].replace(i,jour[i],inplace=True)\n",
    "            \n",
    "            \n",
    "ShoesLight['dayOfweekUpdated']    \n",
    "        "
   ]
  },
  {
   "cell_type": "code",
   "execution_count": 101,
   "metadata": {},
   "outputs": [
    {
     "data": {
      "text/plain": [
       "count    10000.000000\n",
       "mean        60.177376\n",
       "std         18.786193\n",
       "min          5.375000\n",
       "25%         49.990000\n",
       "50%         56.875000\n",
       "75%         67.490000\n",
       "max        359.950000\n",
       "Name: prices.amountAverage, dtype: float64"
      ]
     },
     "execution_count": 101,
     "metadata": {},
     "output_type": "execute_result"
    }
   ],
   "source": [
    "#11) Analyser le prix moyen des chaussures avec la methode .desribe() <br>\n",
    "\n",
    "ShoesLight['prices.amountAverage'].describe()"
   ]
  },
  {
   "cell_type": "code",
   "execution_count": 129,
   "metadata": {},
   "outputs": [
    {
     "data": {
      "text/plain": [
       "(                      prices.amountAverage\n",
       " brand                                     \n",
       " Unbranded                         6.803333\n",
       " Soft Ones                        10.950000\n",
       " Faded Glory                      13.381250\n",
       " Victoria K.                      15.880000\n",
       " Genuine Dickies                  16.925000\n",
       " Earth Spirit                     18.100000\n",
       " Danskin Now                      19.740000\n",
       " Riverberry                       24.990000\n",
       " forever collectibles             25.000000\n",
       " Mo Mo                            25.046667,\n",
       "               prices.amountAverage\n",
       " brand                             \n",
       " Red Wing                345.950000\n",
       " Free People             178.000000\n",
       " On Footwear             159.990000\n",
       " MLB                     151.240000\n",
       " Arc'teryx               150.166667\n",
       " La Sportiva             149.437500\n",
       " Frye                    149.322500\n",
       " Lowa                    146.392857\n",
       " SoftWalk                145.950000\n",
       " Scarpa                  145.337500\n",
       " Hoka One One            144.235714)"
      ]
     },
     "execution_count": 129,
     "metadata": {},
     "output_type": "execute_result"
    }
   ],
   "source": [
    "#12)créez une varaible 'Luxe' contenant les 10 marques les plus chères, puis la variable 'lowCost' contenant les 10 marques les moins chèresLuxe\n",
    "Luxe=ShoesLight[['brand','prices.amountAverage']].groupby('brand').mean().sort_values(['prices.amountAverage'],ascending=True).head(10)\n",
    "\n",
    "LowCost=ShoesLight[['brand','prices.amountAverage']].groupby('brand').mean().sort_values(['prices.amountAverage'],ascending=False).head(11)\n",
    "Luxe,LowCost            "
   ]
  },
  {
   "cell_type": "code",
   "execution_count": 130,
   "metadata": {},
   "outputs": [
    {
     "data": {
      "text/plain": [
       "Jeu    5516\n",
       "lun    1300\n",
       "6      1052\n",
       "Mer     911\n",
       "1       606\n",
       "4       332\n",
       "5       283\n",
       "Name: dayOfweekUpdated, dtype: int64"
      ]
     },
     "execution_count": 130,
     "metadata": {},
     "output_type": "execute_result"
    }
   ],
   "source": [
    "#13) grace à la méthode value_counts(), determinez le jour de la semaine où les produits sont le plus souvent mis à jour <br>\n",
    "ShoesLight['dayOfweekUpdated'].value_counts()"
   ]
  },
  {
   "cell_type": "code",
   "execution_count": 150,
   "metadata": {},
   "outputs": [
    {
     "data": {
      "text/plain": [
       "51.19532786885227"
      ]
     },
     "execution_count": 150,
     "metadata": {},
     "output_type": "execute_result"
    }
   ],
   "source": [
    "#14) (optionnel) donnez le prix moyen des produits de la marque 'easy street' mis à jour un jeudi\n",
    "PriceEasy=ShoesLight['prices.amountAverage'][(ShoesLight['brand']==\"easy street\") & (ShoesLight['dayOfweekUpdated']==\"Jeu\")].mean()\n",
    "PriceEasy"
   ]
  },
  {
   "cell_type": "code",
   "execution_count": null,
   "metadata": {},
   "outputs": [],
   "source": []
  },
  {
   "cell_type": "code",
   "execution_count": null,
   "metadata": {},
   "outputs": [],
   "source": []
  }
 ],
 "metadata": {
  "kernelspec": {
   "display_name": "Python 3",
   "language": "python",
   "name": "python3"
  },
  "language_info": {
   "codemirror_mode": {
    "name": "ipython",
    "version": 3
   },
   "file_extension": ".py",
   "mimetype": "text/x-python",
   "name": "python",
   "nbconvert_exporter": "python",
   "pygments_lexer": "ipython3",
   "version": "3.8.8"
  }
 },
 "nbformat": 4,
 "nbformat_minor": 2
}
